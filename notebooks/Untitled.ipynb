{
 "cells": [
  {
   "cell_type": "markdown",
   "id": "a53551ca",
   "metadata": {
    "toc": true
   },
   "source": [
    "<h1>Table of Contents<span class=\"tocSkip\"></span></h1>\n",
    "<div class=\"toc\"><ul class=\"toc-item\"></ul></div>"
   ]
  },
  {
   "cell_type": "code",
   "execution_count": 1,
   "id": "6259c4e1",
   "metadata": {
    "ExecuteTime": {
     "end_time": "2021-08-16T09:55:18.627273Z",
     "start_time": "2021-08-16T09:55:18.206383Z"
    }
   },
   "outputs": [],
   "source": [
    "import pandas as pd"
   ]
  },
  {
   "cell_type": "code",
   "execution_count": 3,
   "id": "cf3f21b8",
   "metadata": {
    "ExecuteTime": {
     "end_time": "2021-08-16T09:56:00.878312Z",
     "start_time": "2021-08-16T09:56:00.874889Z"
    }
   },
   "outputs": [],
   "source": [
    "data = '../data/patient_blood_edit.xlsx'"
   ]
  },
  {
   "cell_type": "code",
   "execution_count": 7,
   "id": "d020c82c",
   "metadata": {
    "ExecuteTime": {
     "end_time": "2021-08-16T09:56:27.273167Z",
     "start_time": "2021-08-16T09:56:27.108573Z"
    }
   },
   "outputs": [],
   "source": [
    "df= pd.read_excel(data)"
   ]
  },
  {
   "cell_type": "code",
   "execution_count": 13,
   "id": "aa495041",
   "metadata": {
    "ExecuteTime": {
     "end_time": "2021-08-16T09:57:33.882736Z",
     "start_time": "2021-08-16T09:57:33.878045Z"
    }
   },
   "outputs": [
    {
     "data": {
      "text/plain": [
       "Index(['Type', 'Patient # PBD', 'Day', 'RANTES (74)', 'CTACK (62)',\n",
       "       'IL-21 (52)', 'IL-23 (54)', 'IL-33 (45)', 'IL-17F (19)', 'IL-22 (43)',\n",
       "       'MIP-3a (28)', 'GROa (22)', 'IFN-a2 (25)', 'IFN-y (26)', 'IL-10 (42)',\n",
       "       'IL-12p40 (43)', 'IL-12p70 (44)', 'IL-13 (46)', 'IL-17A (48)',\n",
       "       'IL-18 (54)', 'IL-1a (27)', 'IL-1b (28)', 'IL-2 (30)', 'IL-4 (34)',\n",
       "       'IL-5 (35)', 'IL-6 (36)', 'IL-8 (38)', 'IL-9 (39)', 'IP-10 (57)',\n",
       "       'MCP-1 (61)', 'MIP-1a (66)', 'MIP-1b (67)', 'TNF-a (76)'],\n",
       "      dtype='object')"
      ]
     },
     "execution_count": 13,
     "metadata": {},
     "output_type": "execute_result"
    }
   ],
   "source": [
    "df.columns"
   ]
  },
  {
   "cell_type": "code",
   "execution_count": null,
   "id": "c84f2f45",
   "metadata": {},
   "outputs": [],
   "source": [
    "trim_columns = [\n",
    "    'Type', 'Patient # PBD', 'Day', 'IL-10 (42)',  'IL-6 (36)',\n",
    "    'IL-8 (38)', 'IL-9 (39)', 'IP-10 (57)', 'MCP-1 (61)', 'MIP-1a (66)',\n",
    "    'MIP-1b (67)', 'TNF-a (76)'\n",
    "]"
   ]
  }
 ],
 "metadata": {
  "kernelspec": {
   "display_name": "Python [conda env:root] *",
   "language": "python",
   "name": "conda-root-py"
  },
  "language_info": {
   "codemirror_mode": {
    "name": "ipython",
    "version": 3
   },
   "file_extension": ".py",
   "mimetype": "text/x-python",
   "name": "python",
   "nbconvert_exporter": "python",
   "pygments_lexer": "ipython3",
   "version": "3.8.8"
  },
  "toc": {
   "base_numbering": 1,
   "nav_menu": {},
   "number_sections": true,
   "sideBar": true,
   "skip_h1_title": false,
   "title_cell": "Table of Contents",
   "title_sidebar": "Contents",
   "toc_cell": true,
   "toc_position": {},
   "toc_section_display": true,
   "toc_window_display": false
  }
 },
 "nbformat": 4,
 "nbformat_minor": 5
}
